{
  "nbformat": 4,
  "nbformat_minor": 0,
  "metadata": {
    "colab": {
      "provenance": []
    },
    "kernelspec": {
      "name": "python3",
      "display_name": "Python 3"
    },
    "language_info": {
      "name": "python"
    }
  },
  "cells": [
    {
      "cell_type": "code",
      "execution_count": 1,
      "metadata": {
        "id": "NNto9hh0LiuB"
      },
      "outputs": [],
      "source": [
        "import pandas as pd\n",
        "from sklearn.datasets import load_breast_cancer\n",
        "from sklearn.linear_model import LogisticRegression\n",
        "from sklearn.model_selection import train_test_split\n",
        "from mlxtend.feature_selection import SequentialFeatureSelector as SFS"
      ]
    },
    {
      "cell_type": "code",
      "source": [
        "df = load_breast_cancer()"
      ],
      "metadata": {
        "id": "tnI5iW6qPQfs"
      },
      "execution_count": 4,
      "outputs": []
    },
    {
      "cell_type": "code",
      "source": [
        "X = pd.DataFrame(df.data, columns = df.feature_names)\n",
        "y = pd.Series(df.target)"
      ],
      "metadata": {
        "id": "8erIARtIPU8J"
      },
      "execution_count": 5,
      "outputs": []
    },
    {
      "cell_type": "code",
      "source": [
        "X_train, X_test, y_train, y_test = train_test_split(X, y, test_size = 0.2, random_state = 42)"
      ],
      "metadata": {
        "id": "-d2WNUoxPWPp"
      },
      "execution_count": 6,
      "outputs": []
    },
    {
      "cell_type": "code",
      "source": [
        "model = LogisticRegression(max_iter = 10000)"
      ],
      "metadata": {
        "id": "hYDXtf0vP5jq"
      },
      "execution_count": 7,
      "outputs": []
    },
    {
      "cell_type": "code",
      "source": [
        "sfs = SFS(model,\n",
        "          k_features = 5,\n",
        "          forward = True,\n",
        "          floating = False,\n",
        "          scoring = 'accuracy',\n",
        "          cv = 5)"
      ],
      "metadata": {
        "id": "dr1_vLKtP-JY"
      },
      "execution_count": 8,
      "outputs": []
    },
    {
      "cell_type": "code",
      "source": [
        "sfs = sfs.fit(X_train, y_train)"
      ],
      "metadata": {
        "id": "klHBnPn8QKy7"
      },
      "execution_count": 9,
      "outputs": []
    },
    {
      "cell_type": "code",
      "source": [
        "sfs.k_feature_names_"
      ],
      "metadata": {
        "colab": {
          "base_uri": "https://localhost:8080/"
        },
        "id": "4OqC8Xk2QOAa",
        "outputId": "fe13903c-118a-4f3f-8787-5c03a86ec3da"
      },
      "execution_count": 10,
      "outputs": [
        {
          "output_type": "execute_result",
          "data": {
            "text/plain": [
              "('mean radius',\n",
              " 'mean area',\n",
              " 'worst texture',\n",
              " 'worst perimeter',\n",
              " 'worst compactness')"
            ]
          },
          "metadata": {},
          "execution_count": 10
        }
      ]
    }
  ]
}