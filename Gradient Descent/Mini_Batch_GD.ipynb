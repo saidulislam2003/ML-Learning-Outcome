{
  "nbformat": 4,
  "nbformat_minor": 0,
  "metadata": {
    "colab": {
      "provenance": []
    },
    "kernelspec": {
      "name": "python3",
      "display_name": "Python 3"
    },
    "language_info": {
      "name": "python"
    }
  },
  "cells": [
    {
      "cell_type": "code",
      "execution_count": 83,
      "metadata": {
        "id": "6_uQtTC-EWCG"
      },
      "outputs": [],
      "source": [
        "import numpy as np\n",
        "\n",
        "from sklearn.datasets import load_diabetes\n",
        "from sklearn.linear_model import LinearRegression\n",
        "from sklearn.metrics import r2_score\n",
        "from sklearn.model_selection import train_test_split"
      ]
    },
    {
      "cell_type": "code",
      "source": [
        "X, y = load_diabetes(return_X_y = True)"
      ],
      "metadata": {
        "id": "9tnHCClaFFJS"
      },
      "execution_count": 84,
      "outputs": []
    },
    {
      "cell_type": "code",
      "source": [
        "X.shape"
      ],
      "metadata": {
        "colab": {
          "base_uri": "https://localhost:8080/"
        },
        "id": "DWHl1fGeFhKF",
        "outputId": "2365f118-2fc1-44d2-f026-13c112e1096b"
      },
      "execution_count": 85,
      "outputs": [
        {
          "output_type": "execute_result",
          "data": {
            "text/plain": [
              "(442, 10)"
            ]
          },
          "metadata": {},
          "execution_count": 85
        }
      ]
    },
    {
      "cell_type": "code",
      "source": [
        "y.shape"
      ],
      "metadata": {
        "colab": {
          "base_uri": "https://localhost:8080/"
        },
        "id": "YKAV1CIeFj51",
        "outputId": "a15e12d9-3581-43fc-8a31-7354e24376fd"
      },
      "execution_count": 86,
      "outputs": [
        {
          "output_type": "execute_result",
          "data": {
            "text/plain": [
              "(442,)"
            ]
          },
          "metadata": {},
          "execution_count": 86
        }
      ]
    },
    {
      "cell_type": "code",
      "source": [
        "X_train, X_test, y_train, y_test = train_test_split(X, y, test_size = 0.2, random_state = 2)"
      ],
      "metadata": {
        "id": "MXCOhNJeFVEf"
      },
      "execution_count": 87,
      "outputs": []
    },
    {
      "cell_type": "code",
      "source": [
        "model = LinearRegression()"
      ],
      "metadata": {
        "id": "pT59dKpOFcZO"
      },
      "execution_count": 88,
      "outputs": []
    },
    {
      "cell_type": "code",
      "source": [
        "model.fit(X_train, y_train)"
      ],
      "metadata": {
        "colab": {
          "base_uri": "https://localhost:8080/",
          "height": 80
        },
        "id": "FGENN0LYFsMI",
        "outputId": "f00594d8-d440-49fc-fc9a-002d14a2ad1c"
      },
      "execution_count": 89,
      "outputs": [
        {
          "output_type": "execute_result",
          "data": {
            "text/plain": [
              "LinearRegression()"
            ],
            "text/html": [
              "<style>#sk-container-id-5 {\n",
              "  /* Definition of color scheme common for light and dark mode */\n",
              "  --sklearn-color-text: #000;\n",
              "  --sklearn-color-text-muted: #666;\n",
              "  --sklearn-color-line: gray;\n",
              "  /* Definition of color scheme for unfitted estimators */\n",
              "  --sklearn-color-unfitted-level-0: #fff5e6;\n",
              "  --sklearn-color-unfitted-level-1: #f6e4d2;\n",
              "  --sklearn-color-unfitted-level-2: #ffe0b3;\n",
              "  --sklearn-color-unfitted-level-3: chocolate;\n",
              "  /* Definition of color scheme for fitted estimators */\n",
              "  --sklearn-color-fitted-level-0: #f0f8ff;\n",
              "  --sklearn-color-fitted-level-1: #d4ebff;\n",
              "  --sklearn-color-fitted-level-2: #b3dbfd;\n",
              "  --sklearn-color-fitted-level-3: cornflowerblue;\n",
              "\n",
              "  /* Specific color for light theme */\n",
              "  --sklearn-color-text-on-default-background: var(--sg-text-color, var(--theme-code-foreground, var(--jp-content-font-color1, black)));\n",
              "  --sklearn-color-background: var(--sg-background-color, var(--theme-background, var(--jp-layout-color0, white)));\n",
              "  --sklearn-color-border-box: var(--sg-text-color, var(--theme-code-foreground, var(--jp-content-font-color1, black)));\n",
              "  --sklearn-color-icon: #696969;\n",
              "\n",
              "  @media (prefers-color-scheme: dark) {\n",
              "    /* Redefinition of color scheme for dark theme */\n",
              "    --sklearn-color-text-on-default-background: var(--sg-text-color, var(--theme-code-foreground, var(--jp-content-font-color1, white)));\n",
              "    --sklearn-color-background: var(--sg-background-color, var(--theme-background, var(--jp-layout-color0, #111)));\n",
              "    --sklearn-color-border-box: var(--sg-text-color, var(--theme-code-foreground, var(--jp-content-font-color1, white)));\n",
              "    --sklearn-color-icon: #878787;\n",
              "  }\n",
              "}\n",
              "\n",
              "#sk-container-id-5 {\n",
              "  color: var(--sklearn-color-text);\n",
              "}\n",
              "\n",
              "#sk-container-id-5 pre {\n",
              "  padding: 0;\n",
              "}\n",
              "\n",
              "#sk-container-id-5 input.sk-hidden--visually {\n",
              "  border: 0;\n",
              "  clip: rect(1px 1px 1px 1px);\n",
              "  clip: rect(1px, 1px, 1px, 1px);\n",
              "  height: 1px;\n",
              "  margin: -1px;\n",
              "  overflow: hidden;\n",
              "  padding: 0;\n",
              "  position: absolute;\n",
              "  width: 1px;\n",
              "}\n",
              "\n",
              "#sk-container-id-5 div.sk-dashed-wrapped {\n",
              "  border: 1px dashed var(--sklearn-color-line);\n",
              "  margin: 0 0.4em 0.5em 0.4em;\n",
              "  box-sizing: border-box;\n",
              "  padding-bottom: 0.4em;\n",
              "  background-color: var(--sklearn-color-background);\n",
              "}\n",
              "\n",
              "#sk-container-id-5 div.sk-container {\n",
              "  /* jupyter's `normalize.less` sets `[hidden] { display: none; }`\n",
              "     but bootstrap.min.css set `[hidden] { display: none !important; }`\n",
              "     so we also need the `!important` here to be able to override the\n",
              "     default hidden behavior on the sphinx rendered scikit-learn.org.\n",
              "     See: https://github.com/scikit-learn/scikit-learn/issues/21755 */\n",
              "  display: inline-block !important;\n",
              "  position: relative;\n",
              "}\n",
              "\n",
              "#sk-container-id-5 div.sk-text-repr-fallback {\n",
              "  display: none;\n",
              "}\n",
              "\n",
              "div.sk-parallel-item,\n",
              "div.sk-serial,\n",
              "div.sk-item {\n",
              "  /* draw centered vertical line to link estimators */\n",
              "  background-image: linear-gradient(var(--sklearn-color-text-on-default-background), var(--sklearn-color-text-on-default-background));\n",
              "  background-size: 2px 100%;\n",
              "  background-repeat: no-repeat;\n",
              "  background-position: center center;\n",
              "}\n",
              "\n",
              "/* Parallel-specific style estimator block */\n",
              "\n",
              "#sk-container-id-5 div.sk-parallel-item::after {\n",
              "  content: \"\";\n",
              "  width: 100%;\n",
              "  border-bottom: 2px solid var(--sklearn-color-text-on-default-background);\n",
              "  flex-grow: 1;\n",
              "}\n",
              "\n",
              "#sk-container-id-5 div.sk-parallel {\n",
              "  display: flex;\n",
              "  align-items: stretch;\n",
              "  justify-content: center;\n",
              "  background-color: var(--sklearn-color-background);\n",
              "  position: relative;\n",
              "}\n",
              "\n",
              "#sk-container-id-5 div.sk-parallel-item {\n",
              "  display: flex;\n",
              "  flex-direction: column;\n",
              "}\n",
              "\n",
              "#sk-container-id-5 div.sk-parallel-item:first-child::after {\n",
              "  align-self: flex-end;\n",
              "  width: 50%;\n",
              "}\n",
              "\n",
              "#sk-container-id-5 div.sk-parallel-item:last-child::after {\n",
              "  align-self: flex-start;\n",
              "  width: 50%;\n",
              "}\n",
              "\n",
              "#sk-container-id-5 div.sk-parallel-item:only-child::after {\n",
              "  width: 0;\n",
              "}\n",
              "\n",
              "/* Serial-specific style estimator block */\n",
              "\n",
              "#sk-container-id-5 div.sk-serial {\n",
              "  display: flex;\n",
              "  flex-direction: column;\n",
              "  align-items: center;\n",
              "  background-color: var(--sklearn-color-background);\n",
              "  padding-right: 1em;\n",
              "  padding-left: 1em;\n",
              "}\n",
              "\n",
              "\n",
              "/* Toggleable style: style used for estimator/Pipeline/ColumnTransformer box that is\n",
              "clickable and can be expanded/collapsed.\n",
              "- Pipeline and ColumnTransformer use this feature and define the default style\n",
              "- Estimators will overwrite some part of the style using the `sk-estimator` class\n",
              "*/\n",
              "\n",
              "/* Pipeline and ColumnTransformer style (default) */\n",
              "\n",
              "#sk-container-id-5 div.sk-toggleable {\n",
              "  /* Default theme specific background. It is overwritten whether we have a\n",
              "  specific estimator or a Pipeline/ColumnTransformer */\n",
              "  background-color: var(--sklearn-color-background);\n",
              "}\n",
              "\n",
              "/* Toggleable label */\n",
              "#sk-container-id-5 label.sk-toggleable__label {\n",
              "  cursor: pointer;\n",
              "  display: flex;\n",
              "  width: 100%;\n",
              "  margin-bottom: 0;\n",
              "  padding: 0.5em;\n",
              "  box-sizing: border-box;\n",
              "  text-align: center;\n",
              "  align-items: start;\n",
              "  justify-content: space-between;\n",
              "  gap: 0.5em;\n",
              "}\n",
              "\n",
              "#sk-container-id-5 label.sk-toggleable__label .caption {\n",
              "  font-size: 0.6rem;\n",
              "  font-weight: lighter;\n",
              "  color: var(--sklearn-color-text-muted);\n",
              "}\n",
              "\n",
              "#sk-container-id-5 label.sk-toggleable__label-arrow:before {\n",
              "  /* Arrow on the left of the label */\n",
              "  content: \"▸\";\n",
              "  float: left;\n",
              "  margin-right: 0.25em;\n",
              "  color: var(--sklearn-color-icon);\n",
              "}\n",
              "\n",
              "#sk-container-id-5 label.sk-toggleable__label-arrow:hover:before {\n",
              "  color: var(--sklearn-color-text);\n",
              "}\n",
              "\n",
              "/* Toggleable content - dropdown */\n",
              "\n",
              "#sk-container-id-5 div.sk-toggleable__content {\n",
              "  max-height: 0;\n",
              "  max-width: 0;\n",
              "  overflow: hidden;\n",
              "  text-align: left;\n",
              "  /* unfitted */\n",
              "  background-color: var(--sklearn-color-unfitted-level-0);\n",
              "}\n",
              "\n",
              "#sk-container-id-5 div.sk-toggleable__content.fitted {\n",
              "  /* fitted */\n",
              "  background-color: var(--sklearn-color-fitted-level-0);\n",
              "}\n",
              "\n",
              "#sk-container-id-5 div.sk-toggleable__content pre {\n",
              "  margin: 0.2em;\n",
              "  border-radius: 0.25em;\n",
              "  color: var(--sklearn-color-text);\n",
              "  /* unfitted */\n",
              "  background-color: var(--sklearn-color-unfitted-level-0);\n",
              "}\n",
              "\n",
              "#sk-container-id-5 div.sk-toggleable__content.fitted pre {\n",
              "  /* unfitted */\n",
              "  background-color: var(--sklearn-color-fitted-level-0);\n",
              "}\n",
              "\n",
              "#sk-container-id-5 input.sk-toggleable__control:checked~div.sk-toggleable__content {\n",
              "  /* Expand drop-down */\n",
              "  max-height: 200px;\n",
              "  max-width: 100%;\n",
              "  overflow: auto;\n",
              "}\n",
              "\n",
              "#sk-container-id-5 input.sk-toggleable__control:checked~label.sk-toggleable__label-arrow:before {\n",
              "  content: \"▾\";\n",
              "}\n",
              "\n",
              "/* Pipeline/ColumnTransformer-specific style */\n",
              "\n",
              "#sk-container-id-5 div.sk-label input.sk-toggleable__control:checked~label.sk-toggleable__label {\n",
              "  color: var(--sklearn-color-text);\n",
              "  background-color: var(--sklearn-color-unfitted-level-2);\n",
              "}\n",
              "\n",
              "#sk-container-id-5 div.sk-label.fitted input.sk-toggleable__control:checked~label.sk-toggleable__label {\n",
              "  background-color: var(--sklearn-color-fitted-level-2);\n",
              "}\n",
              "\n",
              "/* Estimator-specific style */\n",
              "\n",
              "/* Colorize estimator box */\n",
              "#sk-container-id-5 div.sk-estimator input.sk-toggleable__control:checked~label.sk-toggleable__label {\n",
              "  /* unfitted */\n",
              "  background-color: var(--sklearn-color-unfitted-level-2);\n",
              "}\n",
              "\n",
              "#sk-container-id-5 div.sk-estimator.fitted input.sk-toggleable__control:checked~label.sk-toggleable__label {\n",
              "  /* fitted */\n",
              "  background-color: var(--sklearn-color-fitted-level-2);\n",
              "}\n",
              "\n",
              "#sk-container-id-5 div.sk-label label.sk-toggleable__label,\n",
              "#sk-container-id-5 div.sk-label label {\n",
              "  /* The background is the default theme color */\n",
              "  color: var(--sklearn-color-text-on-default-background);\n",
              "}\n",
              "\n",
              "/* On hover, darken the color of the background */\n",
              "#sk-container-id-5 div.sk-label:hover label.sk-toggleable__label {\n",
              "  color: var(--sklearn-color-text);\n",
              "  background-color: var(--sklearn-color-unfitted-level-2);\n",
              "}\n",
              "\n",
              "/* Label box, darken color on hover, fitted */\n",
              "#sk-container-id-5 div.sk-label.fitted:hover label.sk-toggleable__label.fitted {\n",
              "  color: var(--sklearn-color-text);\n",
              "  background-color: var(--sklearn-color-fitted-level-2);\n",
              "}\n",
              "\n",
              "/* Estimator label */\n",
              "\n",
              "#sk-container-id-5 div.sk-label label {\n",
              "  font-family: monospace;\n",
              "  font-weight: bold;\n",
              "  display: inline-block;\n",
              "  line-height: 1.2em;\n",
              "}\n",
              "\n",
              "#sk-container-id-5 div.sk-label-container {\n",
              "  text-align: center;\n",
              "}\n",
              "\n",
              "/* Estimator-specific */\n",
              "#sk-container-id-5 div.sk-estimator {\n",
              "  font-family: monospace;\n",
              "  border: 1px dotted var(--sklearn-color-border-box);\n",
              "  border-radius: 0.25em;\n",
              "  box-sizing: border-box;\n",
              "  margin-bottom: 0.5em;\n",
              "  /* unfitted */\n",
              "  background-color: var(--sklearn-color-unfitted-level-0);\n",
              "}\n",
              "\n",
              "#sk-container-id-5 div.sk-estimator.fitted {\n",
              "  /* fitted */\n",
              "  background-color: var(--sklearn-color-fitted-level-0);\n",
              "}\n",
              "\n",
              "/* on hover */\n",
              "#sk-container-id-5 div.sk-estimator:hover {\n",
              "  /* unfitted */\n",
              "  background-color: var(--sklearn-color-unfitted-level-2);\n",
              "}\n",
              "\n",
              "#sk-container-id-5 div.sk-estimator.fitted:hover {\n",
              "  /* fitted */\n",
              "  background-color: var(--sklearn-color-fitted-level-2);\n",
              "}\n",
              "\n",
              "/* Specification for estimator info (e.g. \"i\" and \"?\") */\n",
              "\n",
              "/* Common style for \"i\" and \"?\" */\n",
              "\n",
              ".sk-estimator-doc-link,\n",
              "a:link.sk-estimator-doc-link,\n",
              "a:visited.sk-estimator-doc-link {\n",
              "  float: right;\n",
              "  font-size: smaller;\n",
              "  line-height: 1em;\n",
              "  font-family: monospace;\n",
              "  background-color: var(--sklearn-color-background);\n",
              "  border-radius: 1em;\n",
              "  height: 1em;\n",
              "  width: 1em;\n",
              "  text-decoration: none !important;\n",
              "  margin-left: 0.5em;\n",
              "  text-align: center;\n",
              "  /* unfitted */\n",
              "  border: var(--sklearn-color-unfitted-level-1) 1pt solid;\n",
              "  color: var(--sklearn-color-unfitted-level-1);\n",
              "}\n",
              "\n",
              ".sk-estimator-doc-link.fitted,\n",
              "a:link.sk-estimator-doc-link.fitted,\n",
              "a:visited.sk-estimator-doc-link.fitted {\n",
              "  /* fitted */\n",
              "  border: var(--sklearn-color-fitted-level-1) 1pt solid;\n",
              "  color: var(--sklearn-color-fitted-level-1);\n",
              "}\n",
              "\n",
              "/* On hover */\n",
              "div.sk-estimator:hover .sk-estimator-doc-link:hover,\n",
              ".sk-estimator-doc-link:hover,\n",
              "div.sk-label-container:hover .sk-estimator-doc-link:hover,\n",
              ".sk-estimator-doc-link:hover {\n",
              "  /* unfitted */\n",
              "  background-color: var(--sklearn-color-unfitted-level-3);\n",
              "  color: var(--sklearn-color-background);\n",
              "  text-decoration: none;\n",
              "}\n",
              "\n",
              "div.sk-estimator.fitted:hover .sk-estimator-doc-link.fitted:hover,\n",
              ".sk-estimator-doc-link.fitted:hover,\n",
              "div.sk-label-container:hover .sk-estimator-doc-link.fitted:hover,\n",
              ".sk-estimator-doc-link.fitted:hover {\n",
              "  /* fitted */\n",
              "  background-color: var(--sklearn-color-fitted-level-3);\n",
              "  color: var(--sklearn-color-background);\n",
              "  text-decoration: none;\n",
              "}\n",
              "\n",
              "/* Span, style for the box shown on hovering the info icon */\n",
              ".sk-estimator-doc-link span {\n",
              "  display: none;\n",
              "  z-index: 9999;\n",
              "  position: relative;\n",
              "  font-weight: normal;\n",
              "  right: .2ex;\n",
              "  padding: .5ex;\n",
              "  margin: .5ex;\n",
              "  width: min-content;\n",
              "  min-width: 20ex;\n",
              "  max-width: 50ex;\n",
              "  color: var(--sklearn-color-text);\n",
              "  box-shadow: 2pt 2pt 4pt #999;\n",
              "  /* unfitted */\n",
              "  background: var(--sklearn-color-unfitted-level-0);\n",
              "  border: .5pt solid var(--sklearn-color-unfitted-level-3);\n",
              "}\n",
              "\n",
              ".sk-estimator-doc-link.fitted span {\n",
              "  /* fitted */\n",
              "  background: var(--sklearn-color-fitted-level-0);\n",
              "  border: var(--sklearn-color-fitted-level-3);\n",
              "}\n",
              "\n",
              ".sk-estimator-doc-link:hover span {\n",
              "  display: block;\n",
              "}\n",
              "\n",
              "/* \"?\"-specific style due to the `<a>` HTML tag */\n",
              "\n",
              "#sk-container-id-5 a.estimator_doc_link {\n",
              "  float: right;\n",
              "  font-size: 1rem;\n",
              "  line-height: 1em;\n",
              "  font-family: monospace;\n",
              "  background-color: var(--sklearn-color-background);\n",
              "  border-radius: 1rem;\n",
              "  height: 1rem;\n",
              "  width: 1rem;\n",
              "  text-decoration: none;\n",
              "  /* unfitted */\n",
              "  color: var(--sklearn-color-unfitted-level-1);\n",
              "  border: var(--sklearn-color-unfitted-level-1) 1pt solid;\n",
              "}\n",
              "\n",
              "#sk-container-id-5 a.estimator_doc_link.fitted {\n",
              "  /* fitted */\n",
              "  border: var(--sklearn-color-fitted-level-1) 1pt solid;\n",
              "  color: var(--sklearn-color-fitted-level-1);\n",
              "}\n",
              "\n",
              "/* On hover */\n",
              "#sk-container-id-5 a.estimator_doc_link:hover {\n",
              "  /* unfitted */\n",
              "  background-color: var(--sklearn-color-unfitted-level-3);\n",
              "  color: var(--sklearn-color-background);\n",
              "  text-decoration: none;\n",
              "}\n",
              "\n",
              "#sk-container-id-5 a.estimator_doc_link.fitted:hover {\n",
              "  /* fitted */\n",
              "  background-color: var(--sklearn-color-fitted-level-3);\n",
              "}\n",
              "</style><div id=\"sk-container-id-5\" class=\"sk-top-container\"><div class=\"sk-text-repr-fallback\"><pre>LinearRegression()</pre><b>In a Jupyter environment, please rerun this cell to show the HTML representation or trust the notebook. <br />On GitHub, the HTML representation is unable to render, please try loading this page with nbviewer.org.</b></div><div class=\"sk-container\" hidden><div class=\"sk-item\"><div class=\"sk-estimator fitted sk-toggleable\"><input class=\"sk-toggleable__control sk-hidden--visually\" id=\"sk-estimator-id-5\" type=\"checkbox\" checked><label for=\"sk-estimator-id-5\" class=\"sk-toggleable__label fitted sk-toggleable__label-arrow\"><div><div>LinearRegression</div></div><div><a class=\"sk-estimator-doc-link fitted\" rel=\"noreferrer\" target=\"_blank\" href=\"https://scikit-learn.org/1.6/modules/generated/sklearn.linear_model.LinearRegression.html\">?<span>Documentation for LinearRegression</span></a><span class=\"sk-estimator-doc-link fitted\">i<span>Fitted</span></span></div></label><div class=\"sk-toggleable__content fitted\"><pre>LinearRegression()</pre></div> </div></div></div></div>"
            ]
          },
          "metadata": {},
          "execution_count": 89
        }
      ]
    },
    {
      "cell_type": "code",
      "source": [
        "model.coef_"
      ],
      "metadata": {
        "colab": {
          "base_uri": "https://localhost:8080/"
        },
        "id": "0RB7KYuoFvT_",
        "outputId": "ae16c271-a57c-480f-8706-f2061c4355bc"
      },
      "execution_count": 90,
      "outputs": [
        {
          "output_type": "execute_result",
          "data": {
            "text/plain": [
              "array([  -9.15865318, -205.45432163,  516.69374454,  340.61999905,\n",
              "       -895.5520019 ,  561.22067904,  153.89310954,  126.73139688,\n",
              "        861.12700152,   52.42112238])"
            ]
          },
          "metadata": {},
          "execution_count": 90
        }
      ]
    },
    {
      "cell_type": "code",
      "source": [
        "model.intercept_"
      ],
      "metadata": {
        "colab": {
          "base_uri": "https://localhost:8080/"
        },
        "id": "yVo21hWLFxOA",
        "outputId": "424ba99a-1a16-4e51-cb6d-c054836e2313"
      },
      "execution_count": 91,
      "outputs": [
        {
          "output_type": "execute_result",
          "data": {
            "text/plain": [
              "np.float64(151.88331005254167)"
            ]
          },
          "metadata": {},
          "execution_count": 91
        }
      ]
    },
    {
      "cell_type": "code",
      "source": [
        "y_pred = model.predict(X_test)\n",
        "y_pred"
      ],
      "metadata": {
        "colab": {
          "base_uri": "https://localhost:8080/"
        },
        "id": "kyrLDahfFy2s",
        "outputId": "1f8b2e76-5716-450f-a66c-0e8ee3952305"
      },
      "execution_count": 92,
      "outputs": [
        {
          "output_type": "execute_result",
          "data": {
            "text/plain": [
              "array([154.1213881 , 204.81835118, 124.93755353, 106.08950893,\n",
              "       258.5348576 , 256.3310074 , 118.75087616, 119.52440696,\n",
              "       101.50816735, 190.54048661, 141.70656811, 172.51883961,\n",
              "       174.33861649, 134.80942706, 294.13994537,  94.11798038,\n",
              "       211.97059795, 156.49579378, 134.21000428, 119.62664644,\n",
              "       148.87842251, 165.00873409, 151.10021038, 176.04063756,\n",
              "       133.27769647, 221.29555392, 197.17324941,  96.1577688 ,\n",
              "        50.26012711, 230.48580317, 242.06073866, 114.11129218,\n",
              "        67.07532417,  94.52943825, 201.21415375, 167.05136201,\n",
              "       159.881268  , 192.78746659, 114.49551325, 233.48234551,\n",
              "       140.82563045, 121.0680409 , 192.27480772, 191.12738845,\n",
              "       179.16865788, 148.34935601, 163.47414622, 276.81647884,\n",
              "       100.17926432, 164.10555298, 255.80762189, 136.9466204 ,\n",
              "       152.37503699, 107.92237882, 194.21924678,  77.34670792,\n",
              "       118.50482479,  68.38335763, 154.29258529, 162.48840259,\n",
              "       168.36788326, 156.87790322,  97.14191797, 238.1671215 ,\n",
              "       145.46179904, 117.65702433, 168.88784311, 198.38683887,\n",
              "       118.24053714, 124.64552812, 223.17700368, 200.63012386,\n",
              "       129.54414666, 158.1584765 , 154.332565  , 114.47070769,\n",
              "        70.44906407,  76.3973879 , 172.41584591,  80.56270077,\n",
              "        80.2722834 ,  89.46150248, 186.21572052, 275.46275403,\n",
              "       208.26784222, 143.79451509, 291.28766846, 206.32474844,\n",
              "        94.22935404])"
            ]
          },
          "metadata": {},
          "execution_count": 92
        }
      ]
    },
    {
      "cell_type": "code",
      "source": [
        "r2_score(y_test, y_pred)"
      ],
      "metadata": {
        "colab": {
          "base_uri": "https://localhost:8080/"
        },
        "id": "pmiS154PF7V1",
        "outputId": "2566b940-0291-452c-aa6f-afd9dd349ac6"
      },
      "execution_count": 93,
      "outputs": [
        {
          "output_type": "execute_result",
          "data": {
            "text/plain": [
              "0.4399338661568968"
            ]
          },
          "metadata": {},
          "execution_count": 93
        }
      ]
    },
    {
      "cell_type": "code",
      "metadata": {
        "id": "QnNmpiosGAH4"
      },
      "source": [
        "import random\n",
        "class MBGDRegressor:\n",
        "    def __init__(self, batch_size, learning_rate = 0.01, epochs = 100):\n",
        "        self.learning_rate = learning_rate\n",
        "        self.epochs = epochs\n",
        "        self.coef_ = None\n",
        "        self.intercept_ = None\n",
        "        self.batch_size = batch_size\n",
        "\n",
        "    def fit(self, X_train, y_train):\n",
        "        self.intercept_ = 0\n",
        "        self.coef_ = np.ones(X_train.shape[1])\n",
        "\n",
        "        for i in range(self.epochs):\n",
        "            for j in range(int(X_train.shape[0] / self.batch_size)):\n",
        "                # Ensure batch_size is an integer for random.sample\n",
        "                index = random.sample(range(X_train.shape[0]), int(self.batch_size))\n",
        "\n",
        "                y_hat = np.dot(X_train[index], self.coef_) + self.intercept_\n",
        "\n",
        "                intercept_der = -2 * np.mean(y_train[index] - y_hat)\n",
        "                self.intercept_ = self.intercept_ - (self.learning_rate * intercept_der)\n",
        "\n",
        "                # Corrected dot product calculation\n",
        "                coef_der = -2 * np.dot((y_train[index] - y_hat), X_train[index])\n",
        "                self.coef_ = self.coef_ - (self.learning_rate * coef_der)\n",
        "\n",
        "            print(self.intercept_, self.coef_)\n",
        "\n",
        "\n",
        "    def predict(self, X_test):\n",
        "        return np.dot(X_test, self.coef_) + self.intercept_"
      ],
      "execution_count": 94,
      "outputs": []
    },
    {
      "cell_type": "code",
      "source": [
        "mbr = MBGDRegressor(batch_size = int(X_train.shape[0] / 50), learning_rate = 0.01, epochs = 100)"
      ],
      "metadata": {
        "id": "jQKHlWW6QJTF"
      },
      "execution_count": 95,
      "outputs": []
    },
    {
      "cell_type": "code",
      "source": [
        "mbr.fit(X_train, y_train)"
      ],
      "metadata": {
        "colab": {
          "base_uri": "https://localhost:8080/"
        },
        "id": "nf9Ih-WUQbRs",
        "outputId": "c544a6ee-465d-4f92-edaf-d703f93c936a"
      },
      "execution_count": 96,
      "outputs": [
        {
          "output_type": "stream",
          "name": "stdout",
          "text": [
            "98.34574889871635 [ 7.07534278  5.66949315 15.5268996  15.1270591  -0.7743008  -1.04934192\n",
            " -9.68218403  8.0733922  13.3314415   8.31260062]\n",
            "130.85002376630698 [  8.76893483   4.29616152  24.93198323  22.04622728   2.92954714\n",
            "   1.04241411 -16.78422557  15.5259528   25.90887428  13.7023329 ]\n",
            "148.2991685632038 [ 14.07332858   6.50321469  41.02861952  33.53750525   7.78488253\n",
            "   5.14105938 -27.43932145  26.05943456  40.2549698   22.10331014]\n",
            "144.7484375021666 [ 18.72271439   7.25528666  53.07600348  41.56273864  13.47864203\n",
            "   9.22708498 -35.43107724  34.54830108  54.42154519  29.16904561]\n",
            "148.86382323367516 [ 23.15220046   8.70171728  67.44620242  50.66268082  17.52719386\n",
            "  12.12662421 -45.04526578  44.05642742  68.57501412  38.46224962]\n",
            "155.88250695269198 [ 25.63741729   9.66455663  77.99396301  59.93220732  19.88354423\n",
            "  13.06239606 -53.27675708  51.9487205   81.03829721  44.83571377]\n",
            "153.28766225338023 [ 29.50688127  11.35984636  89.46871882  70.76121046  22.48817565\n",
            "  14.62463112 -60.92770985  59.16561644  91.8464846   51.74398822]\n",
            "150.80413595869553 [ 32.24628396  10.79036083 100.70703104  77.07160498  25.93658056\n",
            "  17.40725793 -66.96130877  65.74594258 101.30267383  57.84606818]\n",
            "150.89178129649986 [ 37.42376459  11.81223535 112.12407608  86.53859716  27.88555935\n",
            "  19.39401902 -73.60067152  71.67110454 109.64408879  64.04554685]\n",
            "156.4955976240367 [ 39.79492713  11.49832187 124.98224721  94.98779375  29.47527507\n",
            "  20.3337105  -81.37788309  77.63855565 120.37196541  69.08511668]\n",
            "150.47070938625646 [ 42.6381445    9.83064917 136.73279798 102.43362024  32.15634234\n",
            "  21.20366612 -86.16201977  82.46481565 130.77664428  73.53551617]\n",
            "152.11728311429903 [ 46.31098668   7.90832898 145.29554028 110.38297228  33.86156223\n",
            "  22.47451146 -92.33883538  87.54292337 139.64299009  77.09394049]\n",
            "146.75765624554714 [ 47.58583798   6.57141407 152.36833173 116.01572391  34.46269999\n",
            "  22.60968493 -98.0466405   91.85254543 146.97042567  79.42392825]\n",
            "148.11505289287342 [  49.68607572    4.86814133  160.33104856  122.22547721   35.50098858\n",
            "   22.52600036 -102.45649373   94.7572755   155.36358923   83.64727066]\n",
            "155.16135110761041 [  52.2075078     3.59530812  168.65309336  129.03997699   35.75571671\n",
            "   22.26216955 -108.29540425   99.01094152  163.53731115   87.55948693]\n",
            "154.01874692905218 [  52.98902216    2.49120132  176.6298793   134.36713803   35.86571619\n",
            "   20.96730986 -112.87071881  102.92045217  171.63180907   90.23500087]\n",
            "155.88668493600073 [  53.82895606    2.35823458  184.37333158  138.74095576   33.64038627\n",
            "   17.30164014 -117.8036719   104.91783461  179.68682016   92.81463614]\n",
            "154.10403427680686 [  54.44436562    1.8194849   192.38912875  143.62040836   33.18681894\n",
            "   16.23785535 -122.88067193  108.21492174  186.70590897   95.77760017]\n",
            "154.65683039033473 [  55.94514633    0.92625623  201.13327343  149.81273806   34.68980304\n",
            "   16.81362094 -126.60181344  111.53381234  194.1679154    99.30821854]\n",
            "152.24520121312614 [  55.84818925   -3.21767126  206.97943673  151.86470516   34.57978588\n",
            "   15.71731062 -130.53878628  113.8190728   200.27568868   99.49045417]\n",
            "151.64839271048413 [  57.7845574    -5.14953767  215.00051489  155.86566958   34.39264868\n",
            "   14.40573401 -134.58495221  116.59665564  207.90741607  103.53312809]\n",
            "149.22268254884645 [  57.28683909   -7.17697828  219.77874454  159.12346712   34.17543189\n",
            "   13.0677075  -137.23776891  118.11902475  213.27382621  105.15183615]\n",
            "149.74442027197554 [  58.43088131  -10.01928388  227.03143408  163.9262952    34.82202037\n",
            "   12.72624176 -139.29068617  119.09114911  218.54556945  104.8689729 ]\n",
            "152.51007758356005 [  57.76939652  -11.72416731  232.01360999  167.73576656   34.4895087\n",
            "   11.16978453 -141.74004663  120.82977377  223.95799284  106.33068715]\n",
            "153.98604023154172 [  60.08409415  -11.37187971  238.37973906  173.19961765   34.94356434\n",
            "   10.68830065 -145.15724903  123.69426992  230.10323096  109.73659354]\n",
            "151.8964504591856 [  58.17921378  -14.56219549  242.97693653  175.12460648   32.08709893\n",
            "    7.25258249 -148.24390528  124.56334766  234.84928281  110.36473772]\n",
            "151.64243104273743 [  59.46627294  -16.34526422  246.72659343  179.41073868   31.74021958\n",
            "    5.08560881 -148.52889493  124.64227302  239.65667581  111.64561734]\n",
            "152.47262941927409 [  57.55643318  -17.7152537   251.20966418  182.55204526   31.03696306\n",
            "    3.49962298 -149.49859682  124.4845808   243.17381489  112.66491873]\n",
            "149.04795672866604 [  58.34138722  -18.66784967  256.3353671   188.02988895   29.2223383\n",
            "    0.66887351 -150.43266933  123.77781376  246.97839382  114.23511161]\n",
            "150.8119589652185 [  59.66414728  -20.13894252  263.44313274  194.36519999   29.00826017\n",
            "   -0.71269041 -153.1019682   125.3781944   252.88421954  118.28896844]\n",
            "151.23027511872104 [  59.90517032  -21.29176327  268.92455366  197.64949627   27.56913043\n",
            "   -2.4847776  -154.99213054  126.4109603   255.77990925  119.34632005]\n",
            "152.527454936039 [  61.07773686  -23.60496098  274.75101836  200.78445495   26.75621578\n",
            "   -4.84980345 -155.60006625  126.4931826   260.10951983  120.68862901]\n",
            "150.0612598856108 [  61.74431561  -26.39676447  280.44096937  204.11005965   27.35399771\n",
            "   -5.2630667  -156.8663956   127.5460719   264.62382002  122.8412524 ]\n",
            "152.2949935912396 [  61.80160373  -29.69917143  286.10453294  207.23664849   28.3333997\n",
            "   -6.20967341 -158.15733831  128.67717226  270.78474827  123.39609783]\n",
            "151.87222081942974 [  60.96246162  -32.20899127  291.57572382  208.56155146   27.19983648\n",
            "   -8.29025874 -159.69286031  129.19721379  274.62625623  123.16264002]\n",
            "151.51661053858967 [  63.55766083  -34.06262016  295.78281018  212.79105282   27.62628175\n",
            "   -8.51507705 -161.26343505  130.1734933   278.52514134  124.44826416]\n",
            "150.06893446697362 [  62.61060094  -34.98249869  299.57471414  215.6798405    26.77889273\n",
            "  -10.1983826  -162.29507563  130.44702391  281.58897454  125.14851316]\n",
            "150.0842874005248 [  60.67215991  -35.08084524  303.44851719  218.96539057   25.01821699\n",
            "  -12.44271008 -163.46138272  130.01696647  284.25625508  125.73014979]\n",
            "152.51614266681884 [  61.3111085   -35.32019609  306.97743361  222.34022641   25.19625485\n",
            "  -12.62642038 -166.19293248  132.15190906  288.62189594  126.84921264]\n",
            "152.7677357978823 [  62.50640744  -36.84214453  311.41054479  225.11577019   24.15224005\n",
            "  -15.03530966 -166.57391357  131.57808943  292.07035419  127.67019477]\n",
            "153.08712960304362 [  62.53757743  -41.06528754  314.87567144  227.96609075   22.78137765\n",
            "  -17.35331022 -166.59060126  130.47051017  293.99286905  126.02504741]\n",
            "150.3976896189929 [  61.57533103  -43.15783669  318.20058245  229.35889117   21.6334798\n",
            "  -19.43829988 -167.11527576  129.68860175  296.66464318  126.0906533 ]\n",
            "152.14670391898426 [  61.20679299  -43.59740421  322.66296402  231.22752929   18.72726545\n",
            "  -22.66676906 -168.92136493  129.31133965  298.56055716  127.10331568]\n",
            "153.93093426747907 [  61.39490573  -46.65538745  326.25018564  234.17908207   16.9974531\n",
            "  -26.00567134 -168.46631344  127.55209243  301.86983566  127.36562175]\n",
            "154.55303201564215 [  61.18927614  -48.78993907  328.14444576  236.80466633   14.2696902\n",
            "  -29.38630778 -170.53418792  127.28326726  305.28761352  126.23905148]\n",
            "154.35497940235618 [  59.91103521  -52.08184132  333.99058891  238.08645272   13.16353933\n",
            "  -31.57729677 -172.02570295  127.15132933  309.70455754  126.74405934]\n",
            "150.5738142978694 [  61.61676295  -54.28220898  338.94460387  241.55882159   13.68510501\n",
            "  -32.54509362 -171.72952748  127.08186882  313.50575072  127.75158509]\n",
            "151.0044585229772 [  59.34441864  -55.86995182  340.91102609  242.2250573    12.0613527\n",
            "  -35.43888757 -172.32362452  126.49370024  316.96009284  126.24507821]\n",
            "151.76547728435602 [  57.81170813  -57.69768294  344.81604894  245.67155498   11.23708084\n",
            "  -36.42792843 -174.53982268  127.62311337  320.45231734  125.57670892]\n",
            "149.78731584668023 [  57.313445    -61.80109977  348.91535772  247.21124141   11.13422205\n",
            "  -36.94468928 -174.90106406  127.37600997  322.33197185  123.79218352]\n",
            "152.67612115893138 [  57.79987438  -64.14611294  352.49930426  249.87277004    9.56127038\n",
            "  -38.9180063  -175.73464585  126.97167634  325.03135696  123.44285246]\n",
            "150.04835521046795 [  57.92385162  -65.46679222  355.34576721  251.53372581   10.06091731\n",
            "  -39.46276711 -175.7055646   126.84210196  328.23290357  123.44183093]\n",
            "148.40771119426734 [  57.19847332  -66.76388647  358.10289273  253.00149165    9.2991695\n",
            "  -40.89439144 -178.25889157  128.15326558  332.27416998  122.93611253]\n",
            "149.45650847241797 [  55.31165425  -69.4228709   361.06645005  253.96025007    7.8797878\n",
            "  -43.03740958 -179.16679433  128.22170618  335.08507359  121.85852031]\n",
            "147.89553648893866 [  54.90011225  -72.6496625   363.40064306  254.97274954    7.67722294\n",
            "  -43.65227331 -179.87031268  127.9424138   336.95124942  121.27846385]\n",
            "146.73492727064743 [  53.97440694  -73.65794945  366.29269385  256.53528181    7.13701534\n",
            "  -45.54850012 -180.21290336  128.36430577  340.43843095  120.29573572]\n",
            "151.50854337331725 [  56.42361395  -74.25579671  369.34148101  259.04936649    7.50453754\n",
            "  -45.29489601 -181.88942263  129.67179394  343.01935421  121.37304214]\n",
            "152.41913988986943 [  56.1777869   -76.95294445  372.94771453  260.31987022    4.35633953\n",
            "  -49.22515695 -181.91737987  127.3522416   344.22510171  120.18691349]\n",
            "153.03796668064874 [  54.76710109  -80.07392245  374.98324593  261.28960176    3.16410826\n",
            "  -51.35886111 -181.93173061  126.09404931  346.38260444  119.7241557 ]\n",
            "151.39836943129404 [  53.39189824  -81.55398454  375.71341335  261.99237868    1.35817872\n",
            "  -53.23277216 -183.28316072  125.6811716   347.80079932  117.38140838]\n",
            "150.80732737140852 [ 5.31250720e+01 -8.37610629e+01  3.77273034e+02  2.64514634e+02\n",
            " -4.22506746e-02 -5.56790632e+01 -1.83345935e+02  1.24150904e+02\n",
            "  3.50432785e+02  1.17872508e+02]\n",
            "152.81933246785778 [  53.26498486  -85.9654681   380.25766327  264.33990888   -1.36324599\n",
            "  -58.14906411 -183.99596386  123.93598497  353.82105979  116.99615218]\n",
            "151.94654604601243 [  51.00281346  -87.38369964  382.8327439   264.56563736   -3.72998921\n",
            "  -61.12382497 -183.92838022  121.97536181  355.04496937  117.12244716]\n",
            "151.92033671334852 [  49.33044927  -87.70181131  384.92965029  266.77268796   -3.11317691\n",
            "  -62.28226408 -183.03800579  121.81069256  359.04158485  117.51908161]\n",
            "153.03753257786772 [  49.07625754  -88.74183263  387.24034454  268.42305326   -2.84508084\n",
            "  -63.14945064 -183.09634791  121.96843594  361.99762015  117.64671055]\n",
            "150.61345439948357 [  48.75470007  -90.07660226  389.98882556  270.46625115   -2.83679501\n",
            "  -63.8580369  -183.28604688  122.27737203  364.58172016  118.13367581]\n",
            "149.78324050662548 [  48.43548382  -92.27993621  392.22066399  270.82190472   -4.44444245\n",
            "  -66.32884416 -182.58725802  120.89028406  365.69198402  117.20664418]\n",
            "154.06742920635995 [  48.32426645  -93.60907444  394.32401433  272.89332712   -4.43651187\n",
            "  -66.90565756 -183.60952297  121.65829134  368.5586508   117.0074343 ]\n",
            "152.58532716008514 [  48.1417256   -96.48240622  396.48909031  274.8552736    -4.91257209\n",
            "  -68.70717926 -183.63868599  121.17840306  372.01316303  115.33907845]\n",
            "153.64493232602308 [  47.24701217  -97.59193322  398.65649761  276.52997195   -2.58125819\n",
            "  -66.84617505 -183.72478575  121.94558307  374.85148491  116.32735485]\n",
            "153.68851100678856 [  48.45350017  -99.62717331  402.60040865  276.92920253   -2.93303539\n",
            "  -67.51727009 -183.6309231   121.02512975  376.55523411  115.75260138]\n",
            "152.8231587581396 [  48.06288184 -101.05913865  404.93044832  277.43748611   -3.31191262\n",
            "  -68.17891426 -184.4730563   121.57765919  378.25362848  115.21405649]\n",
            "153.76867438521708 [  47.34611408 -101.63799168  406.17755169  277.91172392   -5.48181132\n",
            "  -70.57901358 -185.62110069  121.50160564  380.06018083  115.06314489]\n",
            "155.46007632851118 [  46.77471381 -103.52498533  408.55155303  278.9811791    -6.30584815\n",
            "  -71.96169281 -185.93504654  121.31826609  382.39807345  114.7308093 ]\n",
            "153.6126375874254 [  44.84134306 -104.68677348  410.59391147  279.27533614   -7.35571016\n",
            "  -72.17259304 -186.85570206  121.86004045  381.96349957  113.75743771]\n",
            "151.6093927347159 [  44.5731435  -106.58019446  412.8587995   281.30991682   -7.5074751\n",
            "  -73.34671    -185.81578366  120.44390009  383.79987273  113.80517348]\n",
            "153.70936960273278 [  45.08759901 -109.03379031  414.83585394  281.93648174   -7.33848998\n",
            "  -74.26524626 -186.30253148  121.15677054  387.25875249  113.45888573]\n",
            "154.79435513911028 [  43.98065033 -110.68033469  417.51887372  283.10692965   -7.35721063\n",
            "  -74.87855683 -186.62428471  121.48416384  389.67435563  113.72111433]\n",
            "157.8725668411374 [  42.12709069 -113.92780683  420.44421113  283.82295355   -7.95299446\n",
            "  -75.52139417 -187.22234253  121.33623846  390.93664829  112.6599097 ]\n",
            "154.2359793629203 [  41.41370678 -115.36000352  422.19372934  285.25531301   -9.11715414\n",
            "  -77.22687348 -187.95045698  120.82785572  393.47634003  114.17961233]\n",
            "154.7472768821396 [  40.39836328 -117.0152538   422.35574025  286.31789206   -9.85838039\n",
            "  -78.69648053 -186.40383031  119.21498879  394.36577916  112.61411821]\n",
            "153.29177921623625 [  39.59658764 -119.07699637  424.44920852  286.98745426  -10.00746203\n",
            "  -79.0677081  -185.59346591  118.25662701  395.57830299  111.4613482 ]\n",
            "153.36239013929057 [  37.97316489 -121.8142192   427.26753963  288.04334186  -10.40009701\n",
            "  -80.20163831 -185.33744763  117.24018243  397.58170759  110.26921262]\n",
            "151.75285537148193 [  37.64958552 -122.66371784  428.56693071  288.06595896  -10.81580682\n",
            "  -80.79117181 -185.86249636  117.33206024  398.97590489  109.73655082]\n",
            "150.85711536507398 [  38.16084251 -123.77645819  430.28101066  288.54429415  -12.38622123\n",
            "  -81.84396746 -186.92426159  117.59394252  398.99868566  108.92416067]\n",
            "148.5265207269579 [  37.33862223 -123.59452178  430.03198963  289.12464196  -14.20910848\n",
            "  -84.08100635 -186.41694034  116.06957264  399.24856009  106.94253961]\n",
            "151.10822844033703 [  36.92972481 -125.21972668  430.81492719  290.19141414  -14.7678886\n",
            "  -85.19272111 -185.99627555  115.32953612  400.55403754  106.64923769]\n",
            "154.61517556900515 [  36.29516477 -125.78159724  432.81686738  291.23918612  -15.37715275\n",
            "  -86.06121863 -187.32239636  116.00089741  403.03261853  106.48080491]\n",
            "151.95210776792288 [  36.51541347 -126.59462695  435.36464428  293.83805     -14.51786822\n",
            "  -85.88215824 -187.21584217  116.38143059  405.36889063  108.13546248]\n",
            "152.13961244813024 [  35.53623033 -127.64684065  436.036407    293.48130886  -15.2018063\n",
            "  -87.12389993 -185.82446955  114.58635905  405.60350729  107.64272205]\n",
            "151.73901077433356 [  35.3956179  -128.25459354  436.09311585  295.38131716  -17.23751631\n",
            "  -89.31209786 -186.47860702  113.76623858  406.64318204  107.25765191]\n",
            "153.0092556194365 [  34.58074934 -128.0110596   438.06813403  296.78464145  -19.35469111\n",
            "  -91.2735166  -186.50116913  112.98081574  406.82551606  107.29449475]\n",
            "154.3057337838305 [  33.74543928 -131.31711172  439.63289989  298.69448816  -21.14849845\n",
            "  -93.69029968 -187.70249824  112.68421545  409.38602878  106.90001168]\n",
            "151.0840937584318 [  32.72614655 -133.23333142  442.41737175  298.61077939  -23.48493768\n",
            "  -96.45599273 -187.70162672  111.15151689  410.18820097  106.81728596]\n",
            "150.7038152712858 [  31.60218338 -133.94901042  442.5128314   299.98253569  -23.7870994\n",
            "  -97.25092869 -187.20886473  110.39083533  411.40879938  106.08238423]\n",
            "154.44947652508026 [  31.14877972 -133.60538074  445.07743255  301.70669248  -23.98608832\n",
            "  -97.96752162 -187.15381981  110.12150894  413.17645451  107.04673795]\n",
            "153.52926302975783 [  30.42584349 -134.4353297   447.75524541  301.94141522  -23.76452294\n",
            "  -97.62803287 -188.33960169  111.15431243  414.73750915  106.82541319]\n",
            "149.14191075803586 [  29.96113295 -135.31052171  449.8317514   302.24305751  -23.60019724\n",
            "  -97.27293193 -189.67266755  112.80427912  416.5928606   107.13176362]\n",
            "152.0830865166737 [  30.29934138 -137.65181831  451.73356329  302.67215205  -24.42632008\n",
            "  -98.68207129 -188.71561514  111.71372041  417.49825913  108.20392243]\n",
            "152.2955039036401 [  30.73822671 -137.94987429  452.9799815   302.99265725  -25.04093136\n",
            "  -99.39613559 -189.16096102  111.96442945  418.65805897  108.12896539]\n"
          ]
        }
      ]
    },
    {
      "cell_type": "code",
      "source": [
        "mbr.coef_"
      ],
      "metadata": {
        "colab": {
          "base_uri": "https://localhost:8080/"
        },
        "id": "QU8pvGd7Sqgl",
        "outputId": "5540372b-6b6f-4c9d-a976-11140f73986a"
      },
      "execution_count": 105,
      "outputs": [
        {
          "output_type": "execute_result",
          "data": {
            "text/plain": [
              "array([  30.73822671, -137.94987429,  452.9799815 ,  302.99265725,\n",
              "        -25.04093136,  -99.39613559, -189.16096102,  111.96442945,\n",
              "        418.65805897,  108.12896539])"
            ]
          },
          "metadata": {},
          "execution_count": 105
        }
      ]
    },
    {
      "cell_type": "code",
      "source": [
        "mbr.intercept_"
      ],
      "metadata": {
        "colab": {
          "base_uri": "https://localhost:8080/"
        },
        "id": "1CNR90RnSvLi",
        "outputId": "02c0a37d-85f2-4ab8-cf2c-c2714b3d1a49"
      },
      "execution_count": 106,
      "outputs": [
        {
          "output_type": "execute_result",
          "data": {
            "text/plain": [
              "np.float64(152.2955039036401)"
            ]
          },
          "metadata": {},
          "execution_count": 106
        }
      ]
    },
    {
      "cell_type": "code",
      "source": [
        "y_pred = mbr.predict(X_test)\n",
        "y_pred"
      ],
      "metadata": {
        "colab": {
          "base_uri": "https://localhost:8080/"
        },
        "id": "-WGeJCh-QdhR",
        "outputId": "78bb2f07-5650-49b4-cf87-a7f5afd9e406"
      },
      "execution_count": 97,
      "outputs": [
        {
          "output_type": "execute_result",
          "data": {
            "text/plain": [
              "array([152.62367952, 196.52595474, 131.76717404, 105.54893763,\n",
              "       260.85328821, 249.04960733, 111.61123073, 115.56212156,\n",
              "        95.88821945, 187.28438947, 149.3158265 , 173.2945919 ,\n",
              "       180.79929668, 140.22421945, 282.33352971,  88.42010657,\n",
              "       197.42724462, 146.54212063, 134.99768002, 132.46589903,\n",
              "       144.42863204, 176.21296963, 155.4405637 , 175.9728736 ,\n",
              "       127.68946499, 221.27277632, 199.26617649, 105.95648786,\n",
              "        56.96883655, 238.27369968, 241.74227396, 114.5546666 ,\n",
              "        69.32400089, 100.1965341 , 204.10910529, 164.40444933,\n",
              "       163.26834712, 193.7673864 , 113.81378709, 237.49314579,\n",
              "       140.47928438, 123.19831062, 187.3778528 , 186.94977976,\n",
              "       175.10851656, 144.44330225, 170.85331239, 295.09113442,\n",
              "       109.4941983 , 175.19700942, 250.38897294, 138.94614399,\n",
              "       149.31316417, 131.06300269, 191.92839909, 100.03085054,\n",
              "       136.24590439,  78.50088582, 157.80598567, 152.58087573,\n",
              "       164.32886453, 164.09773326, 104.4444814 , 221.49571707,\n",
              "       150.08289293, 136.48417998, 159.94977391, 191.71636948,\n",
              "       123.18592266, 131.80577357, 213.48502923, 195.6503358 ,\n",
              "       123.21698883, 154.16171812, 145.31087506, 112.509515  ,\n",
              "        81.65392845,  81.58314222, 170.6547791 ,  83.6115101 ,\n",
              "        97.65334616, 102.16590713, 175.44511413, 271.1518493 ,\n",
              "       204.74720274, 144.56960631, 274.26196706, 197.78530856,\n",
              "       103.27367697])"
            ]
          },
          "metadata": {},
          "execution_count": 97
        }
      ]
    },
    {
      "cell_type": "code",
      "source": [
        "r2_score(y_test, y_pred)"
      ],
      "metadata": {
        "colab": {
          "base_uri": "https://localhost:8080/"
        },
        "id": "4D6nBoRWQjKi",
        "outputId": "be275cb8-a3af-43d7-d015-fa9521cef684"
      },
      "execution_count": 99,
      "outputs": [
        {
          "output_type": "execute_result",
          "data": {
            "text/plain": [
              "0.4521962143869581"
            ]
          },
          "metadata": {},
          "execution_count": 99
        }
      ]
    },
    {
      "cell_type": "code",
      "source": [
        "from sklearn.linear_model import SGDRegressor"
      ],
      "metadata": {
        "id": "_Lzi3ziMQmr6"
      },
      "execution_count": 100,
      "outputs": []
    },
    {
      "cell_type": "code",
      "source": [
        "sgd = SGDRegressor(learning_rate = 'constant', eta0 = 0.1)"
      ],
      "metadata": {
        "id": "jmjxKzGjRWIc"
      },
      "execution_count": 101,
      "outputs": []
    },
    {
      "cell_type": "code",
      "source": [
        "batch_size = 35\n",
        "\n",
        "for i in range(100):\n",
        "    index = random.sample(range(X_train.shape[0]), batch_size)\n",
        "    sgd.partial_fit(X_train[index], y_train[index])"
      ],
      "metadata": {
        "id": "FmR4ao5oRjVV"
      },
      "execution_count": 102,
      "outputs": []
    },
    {
      "cell_type": "code",
      "source": [
        "sgd.coef_"
      ],
      "metadata": {
        "colab": {
          "base_uri": "https://localhost:8080/"
        },
        "id": "Nvx1-oK2Saa0",
        "outputId": "1dbeeb5e-e72d-4c5d-9df1-843b56d9809b"
      },
      "execution_count": 103,
      "outputs": [
        {
          "output_type": "execute_result",
          "data": {
            "text/plain": [
              "array([  73.86731255,  -62.43856816,  331.16250339,  239.94978288,\n",
              "         17.58731787,  -26.49775556, -181.81906442,  137.88286012,\n",
              "        321.50005738,  137.39833673])"
            ]
          },
          "metadata": {},
          "execution_count": 103
        }
      ]
    },
    {
      "cell_type": "code",
      "source": [
        "sgd.intercept_"
      ],
      "metadata": {
        "colab": {
          "base_uri": "https://localhost:8080/"
        },
        "id": "zKluc-FNSeIO",
        "outputId": "14819ece-03ad-4ada-d951-5a8ffc08f811"
      },
      "execution_count": 104,
      "outputs": [
        {
          "output_type": "execute_result",
          "data": {
            "text/plain": [
              "array([153.6101402])"
            ]
          },
          "metadata": {},
          "execution_count": 104
        }
      ]
    },
    {
      "cell_type": "code",
      "source": [
        "y_pred = sgd.predict(X_test)"
      ],
      "metadata": {
        "id": "po6sxfO-SfkH"
      },
      "execution_count": 107,
      "outputs": []
    },
    {
      "cell_type": "code",
      "source": [
        "r2_score(y_test, y_pred)"
      ],
      "metadata": {
        "colab": {
          "base_uri": "https://localhost:8080/"
        },
        "id": "NMhlugxgS5Ka",
        "outputId": "f835a596-2b0b-47be-8ac4-6e28230a5fad"
      },
      "execution_count": 108,
      "outputs": [
        {
          "output_type": "execute_result",
          "data": {
            "text/plain": [
              "0.42893331964289627"
            ]
          },
          "metadata": {},
          "execution_count": 108
        }
      ]
    },
    {
      "cell_type": "code",
      "source": [],
      "metadata": {
        "id": "nYm8F9WpS735"
      },
      "execution_count": null,
      "outputs": []
    }
  ]
}